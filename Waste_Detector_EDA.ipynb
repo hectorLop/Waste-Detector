{
  "nbformat": 4,
  "nbformat_minor": 0,
  "metadata": {
    "colab": {
      "name": "Waste-Detector_EDA.ipynb",
      "provenance": [],
      "collapsed_sections": [],
      "toc_visible": true,
      "mount_file_id": "1Q4f6_1Pt68v8oVO4MAmNzwqwIoPOk3jU",
      "authorship_tag": "ABX9TyMtXhCWqhiE166hFQW4ngNJ"
    },
    "kernelspec": {
      "name": "python3",
      "display_name": "Python 3"
    },
    "language_info": {
      "name": "python"
    }
  },
  "cells": [
    {
      "cell_type": "code",
      "metadata": {
        "id": "cahUPEW31H0J"
      },
      "source": [
        "import numpy as np\n",
        "import matplotlib.pyplot as plt\n",
        "import json\n",
        "import cv2\n",
        "import pandas as pd\n",
        "\n",
        "from PIL import Image, ExifTags\n",
        "from matplotlib.patches import Rectangle, Polygon"
      ],
      "execution_count": 1,
      "outputs": []
    },
    {
      "cell_type": "code",
      "metadata": {
        "id": "EK70W4A7Ib_c"
      },
      "source": [
        "from PIL import Image, ExifTags\n",
        "from pycocotools.coco import COCO\n",
        "from matplotlib.patches import Polygon, Rectangle\n",
        "from matplotlib.collections import PatchCollection\n",
        "import colorsys\n",
        "import random\n",
        "import pylab"
      ],
      "execution_count": 2,
      "outputs": []
    },
    {
      "cell_type": "markdown",
      "metadata": {
        "id": "k7LFpI8N35Mn"
      },
      "source": [
        "# Data Exploration\n",
        "Let's take a look at the `train.json` file. It contains all the information using the COCO format."
      ]
    },
    {
      "cell_type": "code",
      "metadata": {
        "id": "ASB08c0G1f5B"
      },
      "source": [
        "with open('/content/drive/MyDrive/Proyectos/Waste-Detector/taco-dataset/annotations.json', 'r') as file:\n",
        "    annotations = json.load(file)"
      ],
      "execution_count": 3,
      "outputs": []
    },
    {
      "cell_type": "code",
      "metadata": {
        "colab": {
          "base_uri": "https://localhost:8080/"
        },
        "id": "vU7IWgKb5qEp",
        "outputId": "9447e47b-3ba6-4e10-fa90-76aabf356ec5"
      },
      "source": [
        "annotations.keys()"
      ],
      "execution_count": 4,
      "outputs": [
        {
          "output_type": "execute_result",
          "data": {
            "text/plain": [
              "dict_keys(['info', 'images', 'annotations', 'scene_annotations', 'licenses', 'categories', 'scene_categories'])"
            ]
          },
          "metadata": {},
          "execution_count": 4
        }
      ]
    },
    {
      "cell_type": "code",
      "metadata": {
        "id": "RjgmB6k3D4ns"
      },
      "source": [
        "categories_df = pd.DataFrame(annotations['categories'])\n",
        "images_df = pd.DataFrame(annotations['images'])\n",
        "annotations_df = pd.DataFrame(annotations['annotations'])"
      ],
      "execution_count": 50,
      "outputs": []
    },
    {
      "cell_type": "code",
      "metadata": {
        "colab": {
          "base_uri": "https://localhost:8080/",
          "height": 424
        },
        "id": "SxS-XpbvFkJf",
        "outputId": "28e0085e-c71d-4f7b-d0b2-393b1ef1c9ef"
      },
      "source": [
        "images_df"
      ],
      "execution_count": 6,
      "outputs": [
        {
          "output_type": "execute_result",
          "data": {
            "text/html": [
              "<div>\n",
              "<style scoped>\n",
              "    .dataframe tbody tr th:only-of-type {\n",
              "        vertical-align: middle;\n",
              "    }\n",
              "\n",
              "    .dataframe tbody tr th {\n",
              "        vertical-align: top;\n",
              "    }\n",
              "\n",
              "    .dataframe thead th {\n",
              "        text-align: right;\n",
              "    }\n",
              "</style>\n",
              "<table border=\"1\" class=\"dataframe\">\n",
              "  <thead>\n",
              "    <tr style=\"text-align: right;\">\n",
              "      <th></th>\n",
              "      <th>id</th>\n",
              "      <th>width</th>\n",
              "      <th>height</th>\n",
              "      <th>file_name</th>\n",
              "      <th>license</th>\n",
              "      <th>flickr_url</th>\n",
              "      <th>coco_url</th>\n",
              "      <th>date_captured</th>\n",
              "      <th>flickr_640_url</th>\n",
              "    </tr>\n",
              "  </thead>\n",
              "  <tbody>\n",
              "    <tr>\n",
              "      <th>0</th>\n",
              "      <td>0</td>\n",
              "      <td>1537</td>\n",
              "      <td>2049</td>\n",
              "      <td>batch_1/000006.jpg</td>\n",
              "      <td>None</td>\n",
              "      <td>https://farm66.staticflickr.com/65535/33978196...</td>\n",
              "      <td>None</td>\n",
              "      <td>None</td>\n",
              "      <td>https://farm66.staticflickr.com/65535/33978196...</td>\n",
              "    </tr>\n",
              "    <tr>\n",
              "      <th>1</th>\n",
              "      <td>1</td>\n",
              "      <td>1537</td>\n",
              "      <td>2049</td>\n",
              "      <td>batch_1/000008.jpg</td>\n",
              "      <td>None</td>\n",
              "      <td>https://farm66.staticflickr.com/65535/47803331...</td>\n",
              "      <td>None</td>\n",
              "      <td>None</td>\n",
              "      <td>https://farm66.staticflickr.com/65535/47803331...</td>\n",
              "    </tr>\n",
              "    <tr>\n",
              "      <th>2</th>\n",
              "      <td>2</td>\n",
              "      <td>1537</td>\n",
              "      <td>2049</td>\n",
              "      <td>batch_1/000010.jpg</td>\n",
              "      <td>None</td>\n",
              "      <td>https://farm66.staticflickr.com/65535/40888872...</td>\n",
              "      <td>None</td>\n",
              "      <td>None</td>\n",
              "      <td>https://farm66.staticflickr.com/65535/40888872...</td>\n",
              "    </tr>\n",
              "    <tr>\n",
              "      <th>3</th>\n",
              "      <td>3</td>\n",
              "      <td>2049</td>\n",
              "      <td>1537</td>\n",
              "      <td>batch_1/000019.jpg</td>\n",
              "      <td>None</td>\n",
              "      <td>https://farm66.staticflickr.com/65535/47803331...</td>\n",
              "      <td>None</td>\n",
              "      <td>None</td>\n",
              "      <td>https://farm66.staticflickr.com/65535/47803331...</td>\n",
              "    </tr>\n",
              "    <tr>\n",
              "      <th>4</th>\n",
              "      <td>4</td>\n",
              "      <td>1537</td>\n",
              "      <td>2049</td>\n",
              "      <td>batch_1/000026.jpg</td>\n",
              "      <td>None</td>\n",
              "      <td>https://farm66.staticflickr.com/65535/33978199...</td>\n",
              "      <td>None</td>\n",
              "      <td>None</td>\n",
              "      <td>https://farm66.staticflickr.com/65535/33978199...</td>\n",
              "    </tr>\n",
              "    <tr>\n",
              "      <th>...</th>\n",
              "      <td>...</td>\n",
              "      <td>...</td>\n",
              "      <td>...</td>\n",
              "      <td>...</td>\n",
              "      <td>...</td>\n",
              "      <td>...</td>\n",
              "      <td>...</td>\n",
              "      <td>...</td>\n",
              "      <td>...</td>\n",
              "    </tr>\n",
              "    <tr>\n",
              "      <th>1495</th>\n",
              "      <td>1495</td>\n",
              "      <td>1824</td>\n",
              "      <td>4000</td>\n",
              "      <td>batch_9/000095.jpg</td>\n",
              "      <td>CC</td>\n",
              "      <td>https://farm66.staticflickr.com/65535/48701319...</td>\n",
              "      <td>None</td>\n",
              "      <td>None</td>\n",
              "      <td>https://farm66.staticflickr.com/65535/48701319...</td>\n",
              "    </tr>\n",
              "    <tr>\n",
              "      <th>1496</th>\n",
              "      <td>1496</td>\n",
              "      <td>1824</td>\n",
              "      <td>4000</td>\n",
              "      <td>batch_9/000096.jpg</td>\n",
              "      <td>CC</td>\n",
              "      <td>https://farm66.staticflickr.com/65535/48701319...</td>\n",
              "      <td>None</td>\n",
              "      <td>None</td>\n",
              "      <td>https://farm66.staticflickr.com/65535/48701319...</td>\n",
              "    </tr>\n",
              "    <tr>\n",
              "      <th>1497</th>\n",
              "      <td>1497</td>\n",
              "      <td>4000</td>\n",
              "      <td>1824</td>\n",
              "      <td>batch_9/000097.jpg</td>\n",
              "      <td>CC</td>\n",
              "      <td>https://farm66.staticflickr.com/65535/48694319...</td>\n",
              "      <td>None</td>\n",
              "      <td>None</td>\n",
              "      <td>https://farm66.staticflickr.com/65535/48694319...</td>\n",
              "    </tr>\n",
              "    <tr>\n",
              "      <th>1498</th>\n",
              "      <td>1498</td>\n",
              "      <td>1824</td>\n",
              "      <td>4000</td>\n",
              "      <td>batch_9/000098.jpg</td>\n",
              "      <td>CC</td>\n",
              "      <td>https://farm66.staticflickr.com/65535/48693804...</td>\n",
              "      <td>None</td>\n",
              "      <td>None</td>\n",
              "      <td>https://farm66.staticflickr.com/65535/48693804...</td>\n",
              "    </tr>\n",
              "    <tr>\n",
              "      <th>1499</th>\n",
              "      <td>1499</td>\n",
              "      <td>1824</td>\n",
              "      <td>4000</td>\n",
              "      <td>batch_9/000099.jpg</td>\n",
              "      <td>CC</td>\n",
              "      <td>https://farm66.staticflickr.com/65535/48701147...</td>\n",
              "      <td>None</td>\n",
              "      <td>None</td>\n",
              "      <td>https://farm66.staticflickr.com/65535/48701147...</td>\n",
              "    </tr>\n",
              "  </tbody>\n",
              "</table>\n",
              "<p>1500 rows × 9 columns</p>\n",
              "</div>"
            ],
            "text/plain": [
              "        id  ...                                     flickr_640_url\n",
              "0        0  ...  https://farm66.staticflickr.com/65535/33978196...\n",
              "1        1  ...  https://farm66.staticflickr.com/65535/47803331...\n",
              "2        2  ...  https://farm66.staticflickr.com/65535/40888872...\n",
              "3        3  ...  https://farm66.staticflickr.com/65535/47803331...\n",
              "4        4  ...  https://farm66.staticflickr.com/65535/33978199...\n",
              "...    ...  ...                                                ...\n",
              "1495  1495  ...  https://farm66.staticflickr.com/65535/48701319...\n",
              "1496  1496  ...  https://farm66.staticflickr.com/65535/48701319...\n",
              "1497  1497  ...  https://farm66.staticflickr.com/65535/48694319...\n",
              "1498  1498  ...  https://farm66.staticflickr.com/65535/48693804...\n",
              "1499  1499  ...  https://farm66.staticflickr.com/65535/48701147...\n",
              "\n",
              "[1500 rows x 9 columns]"
            ]
          },
          "metadata": {},
          "execution_count": 6
        }
      ]
    },
    {
      "cell_type": "code",
      "metadata": {
        "id": "fBJGuRFxUySZ"
      },
      "source": [
        "data = []\n",
        "\n",
        "for id in annotations_df['image_id']:\n",
        "    image_data = images_df[images_df['id'] == id]\n",
        "    \n",
        "    file_name = image_data['file_name'].values[0]\n",
        "    width= image_data['width'].values[0]\n",
        "    height = image_data['height'].values[0]\n",
        "\n",
        "    data.append((file_name, width, height))"
      ],
      "execution_count": 7,
      "outputs": []
    },
    {
      "cell_type": "code",
      "metadata": {
        "id": "OpG-d1WuVVY_"
      },
      "source": [
        "df = pd.DataFrame(data, columns=['filename', 'width', 'height'])\n",
        "annotations_df = pd.concat([annotations_df, df], axis=1)"
      ],
      "execution_count": 8,
      "outputs": []
    },
    {
      "cell_type": "code",
      "metadata": {
        "colab": {
          "base_uri": "https://localhost:8080/",
          "height": 424
        },
        "id": "EM2HCcU6Vkqy",
        "outputId": "af42bc03-1cc8-4018-abeb-066a70ef29f3"
      },
      "source": [
        "annotations_df"
      ],
      "execution_count": 9,
      "outputs": [
        {
          "output_type": "execute_result",
          "data": {
            "text/html": [
              "<div>\n",
              "<style scoped>\n",
              "    .dataframe tbody tr th:only-of-type {\n",
              "        vertical-align: middle;\n",
              "    }\n",
              "\n",
              "    .dataframe tbody tr th {\n",
              "        vertical-align: top;\n",
              "    }\n",
              "\n",
              "    .dataframe thead th {\n",
              "        text-align: right;\n",
              "    }\n",
              "</style>\n",
              "<table border=\"1\" class=\"dataframe\">\n",
              "  <thead>\n",
              "    <tr style=\"text-align: right;\">\n",
              "      <th></th>\n",
              "      <th>id</th>\n",
              "      <th>image_id</th>\n",
              "      <th>category_id</th>\n",
              "      <th>segmentation</th>\n",
              "      <th>area</th>\n",
              "      <th>bbox</th>\n",
              "      <th>iscrowd</th>\n",
              "      <th>filename</th>\n",
              "      <th>width</th>\n",
              "      <th>height</th>\n",
              "    </tr>\n",
              "  </thead>\n",
              "  <tbody>\n",
              "    <tr>\n",
              "      <th>0</th>\n",
              "      <td>1</td>\n",
              "      <td>0</td>\n",
              "      <td>6</td>\n",
              "      <td>[[561.0, 1238.0, 568.0, 1201.0, 567.0, 1175.0,...</td>\n",
              "      <td>4.039540e+05</td>\n",
              "      <td>[517.0, 127.0, 447.0, 1322.0]</td>\n",
              "      <td>0</td>\n",
              "      <td>batch_1/000006.jpg</td>\n",
              "      <td>1537</td>\n",
              "      <td>2049</td>\n",
              "    </tr>\n",
              "    <tr>\n",
              "      <th>1</th>\n",
              "      <td>2</td>\n",
              "      <td>1</td>\n",
              "      <td>18</td>\n",
              "      <td>[[928.0, 1876.0, 938.0, 1856.0, 968.0, 1826.0,...</td>\n",
              "      <td>1.071260e+06</td>\n",
              "      <td>[1.0, 457.0, 1429.0, 1519.0]</td>\n",
              "      <td>0</td>\n",
              "      <td>batch_1/000008.jpg</td>\n",
              "      <td>1537</td>\n",
              "      <td>2049</td>\n",
              "    </tr>\n",
              "    <tr>\n",
              "      <th>2</th>\n",
              "      <td>3</td>\n",
              "      <td>1</td>\n",
              "      <td>14</td>\n",
              "      <td>[[617.0, 383.0, 703.0, 437.0, 713.0, 456.0, 72...</td>\n",
              "      <td>9.958350e+04</td>\n",
              "      <td>[531.0, 292.0, 1006.0, 672.0]</td>\n",
              "      <td>0</td>\n",
              "      <td>batch_1/000008.jpg</td>\n",
              "      <td>1537</td>\n",
              "      <td>2049</td>\n",
              "    </tr>\n",
              "    <tr>\n",
              "      <th>3</th>\n",
              "      <td>4</td>\n",
              "      <td>2</td>\n",
              "      <td>5</td>\n",
              "      <td>[[670.0, 993.0, 679.0, 998.0, 684.0, 1001.0, 6...</td>\n",
              "      <td>7.383250e+04</td>\n",
              "      <td>[632.0, 987.0, 500.0, 374.0]</td>\n",
              "      <td>0</td>\n",
              "      <td>batch_1/000010.jpg</td>\n",
              "      <td>1537</td>\n",
              "      <td>2049</td>\n",
              "    </tr>\n",
              "    <tr>\n",
              "      <th>4</th>\n",
              "      <td>5</td>\n",
              "      <td>2</td>\n",
              "      <td>7</td>\n",
              "      <td>[[647.0, 1028.0, 650.0, 1022.0, 653.0, 1016.0,...</td>\n",
              "      <td>9.150000e+02</td>\n",
              "      <td>[632.0, 989.0, 44.0, 51.0]</td>\n",
              "      <td>0</td>\n",
              "      <td>batch_1/000010.jpg</td>\n",
              "      <td>1537</td>\n",
              "      <td>2049</td>\n",
              "    </tr>\n",
              "    <tr>\n",
              "      <th>...</th>\n",
              "      <td>...</td>\n",
              "      <td>...</td>\n",
              "      <td>...</td>\n",
              "      <td>...</td>\n",
              "      <td>...</td>\n",
              "      <td>...</td>\n",
              "      <td>...</td>\n",
              "      <td>...</td>\n",
              "      <td>...</td>\n",
              "      <td>...</td>\n",
              "    </tr>\n",
              "    <tr>\n",
              "      <th>4779</th>\n",
              "      <td>4779</td>\n",
              "      <td>1498</td>\n",
              "      <td>16</td>\n",
              "      <td>[[386, 1557, 635, 1567, 986, 1556, 1178, 1550,...</td>\n",
              "      <td>5.032469e+05</td>\n",
              "      <td>[228.7143, 1550.0476, 1007.9998999999999, 578....</td>\n",
              "      <td>0</td>\n",
              "      <td>batch_9/000098.jpg</td>\n",
              "      <td>1824</td>\n",
              "      <td>4000</td>\n",
              "    </tr>\n",
              "    <tr>\n",
              "      <th>4780</th>\n",
              "      <td>4780</td>\n",
              "      <td>1498</td>\n",
              "      <td>7</td>\n",
              "      <td>[[1057, 1824, 1041, 1793, 1042, 1758, 1062, 17...</td>\n",
              "      <td>1.449450e+04</td>\n",
              "      <td>[1041.3334, 1721.7142, 141.0, 138.0]</td>\n",
              "      <td>0</td>\n",
              "      <td>batch_9/000098.jpg</td>\n",
              "      <td>1824</td>\n",
              "      <td>4000</td>\n",
              "    </tr>\n",
              "    <tr>\n",
              "      <th>4781</th>\n",
              "      <td>4781</td>\n",
              "      <td>1499</td>\n",
              "      <td>39</td>\n",
              "      <td>[[1368, 1775, 1099, 1331, 862, 1494, 1099, 1944]]</td>\n",
              "      <td>1.549541e+05</td>\n",
              "      <td>[862.0274, 1331.25, 505.97260000000006, 612.5]</td>\n",
              "      <td>0</td>\n",
              "      <td>batch_9/000099.jpg</td>\n",
              "      <td>1824</td>\n",
              "      <td>4000</td>\n",
              "    </tr>\n",
              "    <tr>\n",
              "      <th>4782</th>\n",
              "      <td>4782</td>\n",
              "      <td>1499</td>\n",
              "      <td>14</td>\n",
              "      <td>[[1096, 1996, 1121, 2069, 1134, 2127, 1177, 22...</td>\n",
              "      <td>2.867500e+04</td>\n",
              "      <td>[966.0, 1996.0, 211.0, 336.0]</td>\n",
              "      <td>0</td>\n",
              "      <td>batch_9/000099.jpg</td>\n",
              "      <td>1824</td>\n",
              "      <td>4000</td>\n",
              "    </tr>\n",
              "    <tr>\n",
              "      <th>4783</th>\n",
              "      <td>4783</td>\n",
              "      <td>1499</td>\n",
              "      <td>6</td>\n",
              "      <td>[[1125, 1937, 1135, 2012, 1194, 2013, 1221, 20...</td>\n",
              "      <td>6.858950e+04</td>\n",
              "      <td>[1125.0, 1858.0, 234.0, 510.0]</td>\n",
              "      <td>0</td>\n",
              "      <td>batch_9/000099.jpg</td>\n",
              "      <td>1824</td>\n",
              "      <td>4000</td>\n",
              "    </tr>\n",
              "  </tbody>\n",
              "</table>\n",
              "<p>4784 rows × 10 columns</p>\n",
              "</div>"
            ],
            "text/plain": [
              "        id  image_id  category_id  ...            filename  width height\n",
              "0        1         0            6  ...  batch_1/000006.jpg   1537   2049\n",
              "1        2         1           18  ...  batch_1/000008.jpg   1537   2049\n",
              "2        3         1           14  ...  batch_1/000008.jpg   1537   2049\n",
              "3        4         2            5  ...  batch_1/000010.jpg   1537   2049\n",
              "4        5         2            7  ...  batch_1/000010.jpg   1537   2049\n",
              "...    ...       ...          ...  ...                 ...    ...    ...\n",
              "4779  4779      1498           16  ...  batch_9/000098.jpg   1824   4000\n",
              "4780  4780      1498            7  ...  batch_9/000098.jpg   1824   4000\n",
              "4781  4781      1499           39  ...  batch_9/000099.jpg   1824   4000\n",
              "4782  4782      1499           14  ...  batch_9/000099.jpg   1824   4000\n",
              "4783  4783      1499            6  ...  batch_9/000099.jpg   1824   4000\n",
              "\n",
              "[4784 rows x 10 columns]"
            ]
          },
          "metadata": {},
          "execution_count": 9
        }
      ]
    },
    {
      "cell_type": "code",
      "metadata": {
        "id": "dhbbFBKcGRty"
      },
      "source": [
        "class Config:\n",
        "    IMGS_PATH = '/content/drive/MyDrive/Proyectos/Waste-Detector/taco-dataset/'"
      ],
      "execution_count": 11,
      "outputs": []
    },
    {
      "cell_type": "code",
      "metadata": {
        "colab": {
          "base_uri": "https://localhost:8080/",
          "height": 206
        },
        "id": "btZQmT5vHa3k",
        "outputId": "ac9312ec-f17e-4742-9547-25ad03c68852"
      },
      "source": [
        "categories_df.head()"
      ],
      "execution_count": 12,
      "outputs": [
        {
          "output_type": "execute_result",
          "data": {
            "text/html": [
              "<div>\n",
              "<style scoped>\n",
              "    .dataframe tbody tr th:only-of-type {\n",
              "        vertical-align: middle;\n",
              "    }\n",
              "\n",
              "    .dataframe tbody tr th {\n",
              "        vertical-align: top;\n",
              "    }\n",
              "\n",
              "    .dataframe thead th {\n",
              "        text-align: right;\n",
              "    }\n",
              "</style>\n",
              "<table border=\"1\" class=\"dataframe\">\n",
              "  <thead>\n",
              "    <tr style=\"text-align: right;\">\n",
              "      <th></th>\n",
              "      <th>supercategory</th>\n",
              "      <th>id</th>\n",
              "      <th>name</th>\n",
              "    </tr>\n",
              "  </thead>\n",
              "  <tbody>\n",
              "    <tr>\n",
              "      <th>0</th>\n",
              "      <td>Aluminium foil</td>\n",
              "      <td>0</td>\n",
              "      <td>Aluminium foil</td>\n",
              "    </tr>\n",
              "    <tr>\n",
              "      <th>1</th>\n",
              "      <td>Battery</td>\n",
              "      <td>1</td>\n",
              "      <td>Battery</td>\n",
              "    </tr>\n",
              "    <tr>\n",
              "      <th>2</th>\n",
              "      <td>Blister pack</td>\n",
              "      <td>2</td>\n",
              "      <td>Aluminium blister pack</td>\n",
              "    </tr>\n",
              "    <tr>\n",
              "      <th>3</th>\n",
              "      <td>Blister pack</td>\n",
              "      <td>3</td>\n",
              "      <td>Carded blister pack</td>\n",
              "    </tr>\n",
              "    <tr>\n",
              "      <th>4</th>\n",
              "      <td>Bottle</td>\n",
              "      <td>4</td>\n",
              "      <td>Other plastic bottle</td>\n",
              "    </tr>\n",
              "  </tbody>\n",
              "</table>\n",
              "</div>"
            ],
            "text/plain": [
              "    supercategory  id                    name\n",
              "0  Aluminium foil   0          Aluminium foil\n",
              "1         Battery   1                 Battery\n",
              "2    Blister pack   2  Aluminium blister pack\n",
              "3    Blister pack   3     Carded blister pack\n",
              "4          Bottle   4    Other plastic bottle"
            ]
          },
          "metadata": {},
          "execution_count": 12
        }
      ]
    },
    {
      "cell_type": "code",
      "metadata": {
        "id": "8QFL0EhCRvYY"
      },
      "source": [
        "def get_img(filepath, annotations_df, config = Config):\n",
        "    #Obtain Exif orientation tag code\n",
        "    for orientation in ExifTags.TAGS.keys():\n",
        "        if ExifTags.TAGS[orientation] == 'Orientation':\n",
        "            break\n",
        "\n",
        "    img_id = annotations_df[annotations_df['filename'] == filepath]['image_id'].values[0]\n",
        "    I = Image.open(config.IMGS_PATH + filepath)\n",
        "\n",
        "    # Load and process image metadata\n",
        "    if I._getexif():\n",
        "        exif = dict(I._getexif().items())\n",
        "        # Rotate portrait and upside down images if necessary\n",
        "        if orientation in exif:\n",
        "            if exif[orientation] == 3:\n",
        "                I = I.rotate(180,expand=True)\n",
        "            if exif[orientation] == 6:\n",
        "                I = I.rotate(270,expand=True)\n",
        "            if exif[orientation] == 8:\n",
        "                I = I.rotate(90,expand=True)\n",
        "\n",
        "    return I, img_id\n",
        "\n",
        "def plot_img(img, annotations_df, img_id):\n",
        "    df = annotations_df[annotations_df['image_id'] == img_id]\n",
        "\n",
        "    # Show image\n",
        "    fig,ax = plt.subplots(1)\n",
        "    plt.imshow(img)\n",
        "\n",
        "    for row in df.iterrows():\n",
        "        data = row[1]\n",
        "        color = colorsys.hsv_to_rgb(np.random.random(),1,1)\n",
        "        for seg in data['segmentation']:\n",
        "            poly = Polygon(np.array(seg).reshape((int(len(seg)/2), 2)))\n",
        "            p = PatchCollection([poly], facecolor=color, edgecolors=color,linewidths=0, alpha=0.4)\n",
        "            ax.add_collection(p)\n",
        "            p = PatchCollection([poly], facecolor='none', edgecolors=color, linewidths=2)\n",
        "            ax.add_collection(p)\n",
        "\n",
        "        [x, y, w, h] = data['bbox']\n",
        "        rect = Rectangle((x,y),w,h,linewidth=2,edgecolor=color,\n",
        "                         facecolor='none', alpha=0.7, linestyle = '--')\n",
        "        ax.add_patch(rect)\n",
        "\n",
        "    plt.show()"
      ],
      "execution_count": 13,
      "outputs": []
    },
    {
      "cell_type": "code",
      "metadata": {
        "colab": {
          "base_uri": "https://localhost:8080/",
          "height": 269
        },
        "id": "rU1plKoVT0M3",
        "outputId": "427108ce-306f-45f5-da95-dc97ed038237"
      },
      "source": [
        "I, img_id = get_img(annotations_df.iloc[900, :]['filename'], annotations_df)\n",
        "plot_img(I, annotations_df, img_id)"
      ],
      "execution_count": 14,
      "outputs": [
        {
          "output_type": "display_data",
          "data": {
            "image/png": "[encoded data removed]",
            "text/plain": [
              "<Figure size 432x288 with 1 Axes>"
            ]
          },
          "metadata": {
            "needs_background": "light"
          }
        }
      ]
    },
    {
      "cell_type": "markdown",
      "metadata": {
        "id": "Tdd0uE0o41Qf"
      },
      "source": [
        "## Group Categories\n",
        "In this section we are going to group the actual categories into the desired ones:\n",
        "- plastic \n",
        "- carton\n",
        "- rest\n",
        "- glass\n",
        "- other\n",
        "- organic\n",
        "- dangerous"
      ]
    },
    {
      "cell_type": "code",
      "metadata": {
        "id": "6IJlHMnd52mQ"
      },
      "source": [
        "replacements = {\n",
        "    'Foam food container': 'plastic',\n",
        "    'Squeezable tube': 'plastic',\n",
        "    'Metal lid': 'plastic',\n",
        "    'Egg carton': 'carton',\n",
        "    'Spread tub': 'plastic',\n",
        "    'Paper bag': 'plastic',\n",
        "    'Normal paper': 'carton',\n",
        "    'Tissues': 'rest',\n",
        "    'Plastic straw': 'plastic',\n",
        "    'Single-use carrier bag': 'plastic',\n",
        "    'Scrap metal': 'other',\n",
        "    'Crisp packet': 'plastic',\n",
        "    'Styrofoam piece': 'carton',\n",
        "    'Glass bottle': 'glass',\n",
        "    'Drink can': 'plastic',\n",
        "    'Other plastic cup': 'plastic',\n",
        "    'Battery': 'dangerous',\n",
        "    'Paper cup': 'carton',\n",
        "    'Polypropylene bag': 'plastic',\n",
        "    'Rope & strings': 'rest',\n",
        "    'Food Can': 'plastic',\n",
        "    'Plastic lid': 'plastic',\n",
        "    'Wrapping paper': 'carton',\n",
        "    'Clear plastic bottle': 'plastic',\n",
        "    'Other plastic wrapper': 'plastic',\n",
        "    'Carded blister pack': 'carton',\n",
        "    'Corrugated carton': 'carton',\n",
        "    'Foam cup': 'plastic',\n",
        "    'Magazine paper': 'carton',\n",
        "    'Broken glass': 'glass',\n",
        "    'Paper straw': 'carton',\n",
        "    'Other plastic bottle': 'plastic',\n",
        "    'Metal bottle cap': 'glass',\n",
        "    'Unlabelled litter': 'other',\n",
        "    'Garbage bag': 'rest',\n",
        "    'Plastic bottle cap': 'plastic',\n",
        "    'Shoe': 'rest',\n",
        "    'Other plastic': 'plastic',\n",
        "    'Plastified paper bag': 'plastic',\n",
        "    'Tupperware': 'plastic',\n",
        "    'Plastic glooves': 'plastic',\n",
        "    'Six pack rings': 'plastic',\n",
        "    'Glass cup': 'glass',\n",
        "    'Disposable plastic cup': 'plastic',\n",
        "    'Plastic film': 'plastic',\n",
        "    'Pizza box': 'carton',\n",
        "    'Meal carton': 'carton',\n",
        "    'Plastic utensils': 'plastic',\n",
        "    'Disposable food container': 'plastic',\n",
        "    'Cigarette': 'rest',\n",
        "    'Food waste': 'organic',\n",
        "    'Other carton': 'carton',\n",
        "    'Glass jar': 'glass',\n",
        "    'Toilet tube': 'carton',\n",
        "    'Other plastic container': 'plastic',\n",
        "    'Pop tab': 'plastic',\n",
        "    'Aluminium blister pack': 'plastic',\n",
        "    'Aerosol': 'plastic',\n",
        "    'Aluminium foil': 'plastic',\n",
        "    'Drink carton': 'carton',\n",
        "    'Unlabeled litter': 'other'\n",
        "}"
      ],
      "execution_count": 51,
      "outputs": []
    },
    {
      "cell_type": "code",
      "metadata": {
        "colab": {
          "base_uri": "https://localhost:8080/",
          "height": 206
        },
        "id": "Zb6OkDcj97kV",
        "outputId": "db250c6d-a4ee-48ae-c751-75d7345973da"
      },
      "source": [
        "categories_df['new_cat'] = categories_df['name'].replace(replacements)\n",
        "categories_df.head()"
      ],
      "execution_count": 52,
      "outputs": [
        {
          "output_type": "execute_result",
          "data": {
            "text/html": [
              "<div>\n",
              "<style scoped>\n",
              "    .dataframe tbody tr th:only-of-type {\n",
              "        vertical-align: middle;\n",
              "    }\n",
              "\n",
              "    .dataframe tbody tr th {\n",
              "        vertical-align: top;\n",
              "    }\n",
              "\n",
              "    .dataframe thead th {\n",
              "        text-align: right;\n",
              "    }\n",
              "</style>\n",
              "<table border=\"1\" class=\"dataframe\">\n",
              "  <thead>\n",
              "    <tr style=\"text-align: right;\">\n",
              "      <th></th>\n",
              "      <th>supercategory</th>\n",
              "      <th>id</th>\n",
              "      <th>name</th>\n",
              "      <th>new_cat</th>\n",
              "    </tr>\n",
              "  </thead>\n",
              "  <tbody>\n",
              "    <tr>\n",
              "      <th>0</th>\n",
              "      <td>Aluminium foil</td>\n",
              "      <td>0</td>\n",
              "      <td>Aluminium foil</td>\n",
              "      <td>plastic</td>\n",
              "    </tr>\n",
              "    <tr>\n",
              "      <th>1</th>\n",
              "      <td>Battery</td>\n",
              "      <td>1</td>\n",
              "      <td>Battery</td>\n",
              "      <td>dangerous</td>\n",
              "    </tr>\n",
              "    <tr>\n",
              "      <th>2</th>\n",
              "      <td>Blister pack</td>\n",
              "      <td>2</td>\n",
              "      <td>Aluminium blister pack</td>\n",
              "      <td>plastic</td>\n",
              "    </tr>\n",
              "    <tr>\n",
              "      <th>3</th>\n",
              "      <td>Blister pack</td>\n",
              "      <td>3</td>\n",
              "      <td>Carded blister pack</td>\n",
              "      <td>carton</td>\n",
              "    </tr>\n",
              "    <tr>\n",
              "      <th>4</th>\n",
              "      <td>Bottle</td>\n",
              "      <td>4</td>\n",
              "      <td>Other plastic bottle</td>\n",
              "      <td>plastic</td>\n",
              "    </tr>\n",
              "  </tbody>\n",
              "</table>\n",
              "</div>"
            ],
            "text/plain": [
              "    supercategory  id                    name    new_cat\n",
              "0  Aluminium foil   0          Aluminium foil    plastic\n",
              "1         Battery   1                 Battery  dangerous\n",
              "2    Blister pack   2  Aluminium blister pack    plastic\n",
              "3    Blister pack   3     Carded blister pack     carton\n",
              "4          Bottle   4    Other plastic bottle    plastic"
            ]
          },
          "metadata": {},
          "execution_count": 52
        }
      ]
    },
    {
      "cell_type": "code",
      "metadata": {
        "colab": {
          "base_uri": "https://localhost:8080/"
        },
        "id": "nBoWCVTF-P_H",
        "outputId": "3344ad71-ffdb-450a-cc5c-9097661829c5"
      },
      "source": [
        "categories_df['new_cat'].value_counts()"
      ],
      "execution_count": 53,
      "outputs": [
        {
          "output_type": "execute_result",
          "data": {
            "text/plain": [
              "plastic      32\n",
              "carton       14\n",
              "rest          5\n",
              "glass         5\n",
              "other         2\n",
              "organic       1\n",
              "dangerous     1\n",
              "Name: new_cat, dtype: int64"
            ]
          },
          "metadata": {},
          "execution_count": 53
        }
      ]
    },
    {
      "cell_type": "code",
      "metadata": {
        "colab": {
          "base_uri": "https://localhost:8080/"
        },
        "id": "uzUxD6KU_w7U",
        "outputId": "d548c13e-6be1-48dc-e79c-4f73feaa48df"
      },
      "source": [
        "new_categories = {}\n",
        "\n",
        "for idx, cat in enumerate(pd.unique(categories_df['new_cat'])):\n",
        "    if cat not in new_categories:\n",
        "        new_categories[cat] = idx\n",
        "\n",
        "new_categories"
      ],
      "execution_count": 54,
      "outputs": [
        {
          "output_type": "execute_result",
          "data": {
            "text/plain": [
              "{'carton': 2,\n",
              " 'dangerous': 1,\n",
              " 'glass': 3,\n",
              " 'organic': 4,\n",
              " 'other': 6,\n",
              " 'plastic': 0,\n",
              " 'rest': 5}"
            ]
          },
          "metadata": {},
          "execution_count": 54
        }
      ]
    },
    {
      "cell_type": "code",
      "metadata": {
        "id": "B5DBudQ9_gjk"
      },
      "source": [
        "categories_replacements = {}\n",
        "\n",
        "for cat in new_categories:\n",
        "    old_categories = categories_df[categories_df['new_cat'] == cat]['id']\n",
        "\n",
        "    for old_cat in old_categories:\n",
        "        if old_cat not in categories_replacements:\n",
        "            categories_replacements[old_cat] = new_categories[cat]"
      ],
      "execution_count": 55,
      "outputs": []
    },
    {
      "cell_type": "code",
      "metadata": {
        "colab": {
          "base_uri": "https://localhost:8080/"
        },
        "id": "GehEGA6E47Pw",
        "outputId": "9a8faeaa-d44b-4966-ee33-464c93652093"
      },
      "source": [
        "annotations_df['category_id'] = annotations_df['category_id'].replace(categories_replacements)\n",
        "annotations_df['category_id'].value_counts()"
      ],
      "execution_count": 56,
      "outputs": [
        {
          "output_type": "execute_result",
          "data": {
            "text/plain": [
              "0    2586\n",
              "5     776\n",
              "2     541\n",
              "6     537\n",
              "3     334\n",
              "4       8\n",
              "1       2\n",
              "Name: category_id, dtype: int64"
            ]
          },
          "metadata": {},
          "execution_count": 56
        }
      ]
    },
    {
      "cell_type": "markdown",
      "metadata": {
        "id": "XyawlDr9BAV9"
      },
      "source": [
        "Both the category 1 (dangerous) and 4 (organic) are heavily underrepresented in the dataset. That means the algorithm will not be able to recognize them."
      ]
    },
    {
      "cell_type": "code",
      "metadata": {
        "id": "XUqjK3tUA1Vt"
      },
      "source": [
        ""
      ],
      "execution_count": null,
      "outputs": []
    }
  ]
}