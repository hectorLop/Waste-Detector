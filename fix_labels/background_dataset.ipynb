{
 "cells": [
  {
   "cell_type": "code",
   "execution_count": 8,
   "id": "fbefe8ea",
   "metadata": {},
   "outputs": [],
   "source": [
    "import pandas as pd\n",
    "import glob\n",
    "import cv2"
   ]
  },
  {
   "cell_type": "markdown",
   "id": "3b117633",
   "metadata": {},
   "source": [
    "# Background Dataset\n",
    "I have collected a set of images that don't contain any waste, so their category will be `background (0)`."
   ]
  },
  {
   "cell_type": "code",
   "execution_count": 9,
   "id": "5cba9e32",
   "metadata": {},
   "outputs": [],
   "source": [
    "first_set = glob.glob('../background-dataset/data/images/*')\n",
    "second_set = glob.glob('../background-dataset/garbage-object-detection/images/*')\n",
    "images_set = first_set + second_set"
   ]
  },
  {
   "cell_type": "code",
   "execution_count": 10,
   "id": "59446eca",
   "metadata": {},
   "outputs": [
    {
     "data": {
      "text/plain": [
       "321"
      ]
     },
     "execution_count": 10,
     "metadata": {},
     "output_type": "execute_result"
    }
   ],
   "source": [
    "len(images_set) "
   ]
  },
  {
   "cell_type": "markdown",
   "id": "ddc46d1a",
   "metadata": {},
   "source": [
    "There are 321 background images in total."
   ]
  },
  {
   "cell_type": "markdown",
   "id": "3c9d2574",
   "metadata": {},
   "source": [
    "## Dataset Creation"
   ]
  },
  {
   "cell_type": "markdown",
   "id": "06336d27",
   "metadata": {},
   "source": [
    "Let's create a dataframe with the same columns as the aggregated form of the annotations and images from COCO format."
   ]
  },
  {
   "cell_type": "code",
   "execution_count": 11,
   "id": "873d91fa",
   "metadata": {},
   "outputs": [],
   "source": [
    "columns = ['id', 'image_id', 'category_id', 'segmentation', 'area', 'bbox', 'iscrowd', 'filename', 'width', 'height']"
   ]
  },
  {
   "cell_type": "code",
   "execution_count": 16,
   "id": "5925aed4",
   "metadata": {},
   "outputs": [],
   "source": [
    "data = []\n",
    "\n",
    "for idx, image in enumerate(images_set):\n",
    "    filename = image.split('/')[-1]\n",
    "\n",
    "    img = cv2.imread(image)\n",
    "    height, width, _ = img.shape\n",
    "    \n",
    "    info = (idx, idx, 0, [], 0., [], 0, filename, width, height)\n",
    "    data.append(info)"
   ]
  },
  {
   "cell_type": "code",
   "execution_count": 17,
   "id": "b5c85148",
   "metadata": {},
   "outputs": [
    {
     "data": {
      "text/html": [
       "<div>\n",
       "<style scoped>\n",
       "    .dataframe tbody tr th:only-of-type {\n",
       "        vertical-align: middle;\n",
       "    }\n",
       "\n",
       "    .dataframe tbody tr th {\n",
       "        vertical-align: top;\n",
       "    }\n",
       "\n",
       "    .dataframe thead th {\n",
       "        text-align: right;\n",
       "    }\n",
       "</style>\n",
       "<table border=\"1\" class=\"dataframe\">\n",
       "  <thead>\n",
       "    <tr style=\"text-align: right;\">\n",
       "      <th></th>\n",
       "      <th>id</th>\n",
       "      <th>image_id</th>\n",
       "      <th>category_id</th>\n",
       "      <th>segmentation</th>\n",
       "      <th>area</th>\n",
       "      <th>bbox</th>\n",
       "      <th>iscrowd</th>\n",
       "      <th>filename</th>\n",
       "      <th>width</th>\n",
       "      <th>height</th>\n",
       "    </tr>\n",
       "  </thead>\n",
       "  <tbody>\n",
       "    <tr>\n",
       "      <th>0</th>\n",
       "      <td>0</td>\n",
       "      <td>0</td>\n",
       "      <td>0</td>\n",
       "      <td>[]</td>\n",
       "      <td>0.0</td>\n",
       "      <td>[]</td>\n",
       "      <td>0</td>\n",
       "      <td>0cb80f833f1f49158c2b8854b0ba9f50.jpg</td>\n",
       "      <td>2048</td>\n",
       "      <td>1536</td>\n",
       "    </tr>\n",
       "    <tr>\n",
       "      <th>1</th>\n",
       "      <td>1</td>\n",
       "      <td>1</td>\n",
       "      <td>0</td>\n",
       "      <td>[]</td>\n",
       "      <td>0.0</td>\n",
       "      <td>[]</td>\n",
       "      <td>0</td>\n",
       "      <td>veegvuil32.jpg</td>\n",
       "      <td>2048</td>\n",
       "      <td>1536</td>\n",
       "    </tr>\n",
       "    <tr>\n",
       "      <th>2</th>\n",
       "      <td>2</td>\n",
       "      <td>2</td>\n",
       "      <td>0</td>\n",
       "      <td>[]</td>\n",
       "      <td>0.0</td>\n",
       "      <td>[]</td>\n",
       "      <td>0</td>\n",
       "      <td>00000038.jpg</td>\n",
       "      <td>500</td>\n",
       "      <td>281</td>\n",
       "    </tr>\n",
       "    <tr>\n",
       "      <th>3</th>\n",
       "      <td>3</td>\n",
       "      <td>3</td>\n",
       "      <td>0</td>\n",
       "      <td>[]</td>\n",
       "      <td>0.0</td>\n",
       "      <td>[]</td>\n",
       "      <td>0</td>\n",
       "      <td>71fdd0874142491bb86062b295086178.jpg</td>\n",
       "      <td>3264</td>\n",
       "      <td>2448</td>\n",
       "    </tr>\n",
       "    <tr>\n",
       "      <th>4</th>\n",
       "      <td>4</td>\n",
       "      <td>4</td>\n",
       "      <td>0</td>\n",
       "      <td>[]</td>\n",
       "      <td>0.0</td>\n",
       "      <td>[]</td>\n",
       "      <td>0</td>\n",
       "      <td>755e2c6967db4db782d522c525707909.jpg</td>\n",
       "      <td>3264</td>\n",
       "      <td>2448</td>\n",
       "    </tr>\n",
       "    <tr>\n",
       "      <th>...</th>\n",
       "      <td>...</td>\n",
       "      <td>...</td>\n",
       "      <td>...</td>\n",
       "      <td>...</td>\n",
       "      <td>...</td>\n",
       "      <td>...</td>\n",
       "      <td>...</td>\n",
       "      <td>...</td>\n",
       "      <td>...</td>\n",
       "      <td>...</td>\n",
       "    </tr>\n",
       "    <tr>\n",
       "      <th>316</th>\n",
       "      <td>316</td>\n",
       "      <td>316</td>\n",
       "      <td>0</td>\n",
       "      <td>[]</td>\n",
       "      <td>0.0</td>\n",
       "      <td>[]</td>\n",
       "      <td>0</td>\n",
       "      <td>mdc_photo_mdc_7c34f2_1511653787059_15116537953...</td>\n",
       "      <td>1944</td>\n",
       "      <td>1458</td>\n",
       "    </tr>\n",
       "    <tr>\n",
       "      <th>317</th>\n",
       "      <td>317</td>\n",
       "      <td>317</td>\n",
       "      <td>0</td>\n",
       "      <td>[]</td>\n",
       "      <td>0.0</td>\n",
       "      <td>[]</td>\n",
       "      <td>0</td>\n",
       "      <td>mdc_photo_mdc_523960_1511628472142_15116284857...</td>\n",
       "      <td>1944</td>\n",
       "      <td>1458</td>\n",
       "    </tr>\n",
       "    <tr>\n",
       "      <th>318</th>\n",
       "      <td>318</td>\n",
       "      <td>318</td>\n",
       "      <td>0</td>\n",
       "      <td>[]</td>\n",
       "      <td>0.0</td>\n",
       "      <td>[]</td>\n",
       "      <td>0</td>\n",
       "      <td>mdc_photo_mdc_5a256a_IMG_20170824_021706_15035...</td>\n",
       "      <td>4032</td>\n",
       "      <td>3024</td>\n",
       "    </tr>\n",
       "    <tr>\n",
       "      <th>319</th>\n",
       "      <td>319</td>\n",
       "      <td>319</td>\n",
       "      <td>0</td>\n",
       "      <td>[]</td>\n",
       "      <td>0.0</td>\n",
       "      <td>[]</td>\n",
       "      <td>0</td>\n",
       "      <td>mdc_photo_cdv_photo_025_1511730688754.jpg</td>\n",
       "      <td>2448</td>\n",
       "      <td>2791</td>\n",
       "    </tr>\n",
       "    <tr>\n",
       "      <th>320</th>\n",
       "      <td>320</td>\n",
       "      <td>320</td>\n",
       "      <td>0</td>\n",
       "      <td>[]</td>\n",
       "      <td>0.0</td>\n",
       "      <td>[]</td>\n",
       "      <td>0</td>\n",
       "      <td>mdc_photo_cdv_photo_096_1474742097585.jpg</td>\n",
       "      <td>1936</td>\n",
       "      <td>2592</td>\n",
       "    </tr>\n",
       "  </tbody>\n",
       "</table>\n",
       "<p>321 rows × 10 columns</p>\n",
       "</div>"
      ],
      "text/plain": [
       "      id  image_id  category_id segmentation  area bbox  iscrowd  \\\n",
       "0      0         0            0           []   0.0   []        0   \n",
       "1      1         1            0           []   0.0   []        0   \n",
       "2      2         2            0           []   0.0   []        0   \n",
       "3      3         3            0           []   0.0   []        0   \n",
       "4      4         4            0           []   0.0   []        0   \n",
       "..   ...       ...          ...          ...   ...  ...      ...   \n",
       "316  316       316            0           []   0.0   []        0   \n",
       "317  317       317            0           []   0.0   []        0   \n",
       "318  318       318            0           []   0.0   []        0   \n",
       "319  319       319            0           []   0.0   []        0   \n",
       "320  320       320            0           []   0.0   []        0   \n",
       "\n",
       "                                              filename  width  height  \n",
       "0                 0cb80f833f1f49158c2b8854b0ba9f50.jpg   2048    1536  \n",
       "1                                       veegvuil32.jpg   2048    1536  \n",
       "2                                         00000038.jpg    500     281  \n",
       "3                 71fdd0874142491bb86062b295086178.jpg   3264    2448  \n",
       "4                 755e2c6967db4db782d522c525707909.jpg   3264    2448  \n",
       "..                                                 ...    ...     ...  \n",
       "316  mdc_photo_mdc_7c34f2_1511653787059_15116537953...   1944    1458  \n",
       "317  mdc_photo_mdc_523960_1511628472142_15116284857...   1944    1458  \n",
       "318  mdc_photo_mdc_5a256a_IMG_20170824_021706_15035...   4032    3024  \n",
       "319          mdc_photo_cdv_photo_025_1511730688754.jpg   2448    2791  \n",
       "320          mdc_photo_cdv_photo_096_1474742097585.jpg   1936    2592  \n",
       "\n",
       "[321 rows x 10 columns]"
      ]
     },
     "execution_count": 17,
     "metadata": {},
     "output_type": "execute_result"
    }
   ],
   "source": [
    "background_df = pd.DataFrame(data, columns=columns)\n",
    "background_df"
   ]
  },
  {
   "cell_type": "code",
   "execution_count": 20,
   "id": "0cd58c36",
   "metadata": {},
   "outputs": [],
   "source": [
    "background_df.to_csv('../background-dataset/background_df.csv', index=False)"
   ]
  }
 ],
 "metadata": {
  "kernelspec": {
   "display_name": "Python [conda env:waste]",
   "language": "python",
   "name": "conda-env-waste-py"
  },
  "language_info": {
   "codemirror_mode": {
    "name": "ipython",
    "version": 3
   },
   "file_extension": ".py",
   "mimetype": "text/x-python",
   "name": "python",
   "nbconvert_exporter": "python",
   "pygments_lexer": "ipython3",
   "version": "3.9.7"
  }
 },
 "nbformat": 4,
 "nbformat_minor": 5
}
