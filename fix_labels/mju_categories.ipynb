{
 "cells": [
  {
   "cell_type": "code",
   "execution_count": 54,
   "id": "38e24e88",
   "metadata": {},
   "outputs": [],
   "source": [
    "import os\n",
    "import cv2\n",
    "import argparse\n",
    "import shutil\n",
    "import numpy as np\n",
    "from lxml import etree\n",
    "from tqdm import tqdm"
   ]
  },
  {
   "cell_type": "markdown",
   "id": "50dd0130",
   "metadata": {},
   "source": [
    "### Parse CVAT .xml annotations"
   ]
  },
  {
   "cell_type": "code",
   "execution_count": 80,
   "id": "456b7b8e",
   "metadata": {},
   "outputs": [],
   "source": [
    "root = etree.parse('annotations.xml').getroot()\n",
    "images = []\n",
    "\n",
    "for img in root.iterfind('image'):\n",
    "    name = img.attrib['name']\n",
    "    for item in img:\n",
    "        label = item.attrib['label']\n",
    "        \n",
    "    images.append((name, label))"
   ]
  },
  {
   "cell_type": "code",
   "execution_count": 82,
   "id": "4e28b5b5",
   "metadata": {},
   "outputs": [
    {
     "data": {
      "text/html": [
       "<div>\n",
       "<style scoped>\n",
       "    .dataframe tbody tr th:only-of-type {\n",
       "        vertical-align: middle;\n",
       "    }\n",
       "\n",
       "    .dataframe tbody tr th {\n",
       "        vertical-align: top;\n",
       "    }\n",
       "\n",
       "    .dataframe thead th {\n",
       "        text-align: right;\n",
       "    }\n",
       "</style>\n",
       "<table border=\"1\" class=\"dataframe\">\n",
       "  <thead>\n",
       "    <tr style=\"text-align: right;\">\n",
       "      <th></th>\n",
       "      <th>file_name</th>\n",
       "      <th>category</th>\n",
       "    </tr>\n",
       "  </thead>\n",
       "  <tbody>\n",
       "    <tr>\n",
       "      <th>0</th>\n",
       "      <td>2020-01-07_17_22_46-81_color.png</td>\n",
       "      <td>plastic</td>\n",
       "    </tr>\n",
       "    <tr>\n",
       "      <th>1</th>\n",
       "      <td>2020-01-07_17_22_39-46_color.png</td>\n",
       "      <td>plastic</td>\n",
       "    </tr>\n",
       "    <tr>\n",
       "      <th>2</th>\n",
       "      <td>2020-01-07_17_22_37-17_color.png</td>\n",
       "      <td>plastic</td>\n",
       "    </tr>\n",
       "    <tr>\n",
       "      <th>3</th>\n",
       "      <td>2020-01-07_17_22_34-34_color.png</td>\n",
       "      <td>plastic</td>\n",
       "    </tr>\n",
       "    <tr>\n",
       "      <th>4</th>\n",
       "      <td>2020-01-07_17_22_31-77_color.png</td>\n",
       "      <td>plastic</td>\n",
       "    </tr>\n",
       "    <tr>\n",
       "      <th>...</th>\n",
       "      <td>...</td>\n",
       "      <td>...</td>\n",
       "    </tr>\n",
       "    <tr>\n",
       "      <th>2470</th>\n",
       "      <td>2019-09-19_16_20_00-38_color.png</td>\n",
       "      <td>plastic</td>\n",
       "    </tr>\n",
       "    <tr>\n",
       "      <th>2471</th>\n",
       "      <td>2019-09-19_16_19_55-63_color.png</td>\n",
       "      <td>plastic</td>\n",
       "    </tr>\n",
       "    <tr>\n",
       "      <th>2472</th>\n",
       "      <td>2019-09-19_16_19_49-57_color.png</td>\n",
       "      <td>carton</td>\n",
       "    </tr>\n",
       "    <tr>\n",
       "      <th>2473</th>\n",
       "      <td>2019-09-19_16_19_44-93_color.png</td>\n",
       "      <td>carton</td>\n",
       "    </tr>\n",
       "    <tr>\n",
       "      <th>2474</th>\n",
       "      <td>2019-09-19_16_19_32-29_color.png</td>\n",
       "      <td>carton</td>\n",
       "    </tr>\n",
       "  </tbody>\n",
       "</table>\n",
       "<p>2475 rows × 2 columns</p>\n",
       "</div>"
      ],
      "text/plain": [
       "                             file_name category\n",
       "0     2020-01-07_17_22_46-81_color.png  plastic\n",
       "1     2020-01-07_17_22_39-46_color.png  plastic\n",
       "2     2020-01-07_17_22_37-17_color.png  plastic\n",
       "3     2020-01-07_17_22_34-34_color.png  plastic\n",
       "4     2020-01-07_17_22_31-77_color.png  plastic\n",
       "...                                ...      ...\n",
       "2470  2019-09-19_16_20_00-38_color.png  plastic\n",
       "2471  2019-09-19_16_19_55-63_color.png  plastic\n",
       "2472  2019-09-19_16_19_49-57_color.png   carton\n",
       "2473  2019-09-19_16_19_44-93_color.png   carton\n",
       "2474  2019-09-19_16_19_32-29_color.png   carton\n",
       "\n",
       "[2475 rows x 2 columns]"
      ]
     },
     "execution_count": 82,
     "metadata": {},
     "output_type": "execute_result"
    }
   ],
   "source": [
    "df = pd.DataFrame(images, columns=['file_name', 'category'])\n",
    "df"
   ]
  },
  {
   "cell_type": "markdown",
   "id": "aa16d448",
   "metadata": {},
   "source": [
    "### Replace the categories in the annotations .json files"
   ]
  },
  {
   "cell_type": "code",
   "execution_count": 100,
   "id": "de1f44d4",
   "metadata": {},
   "outputs": [],
   "source": [
    "def get_new_categories(image_id, images_df, categories_df):\n",
    "    filename = images_df[images_df['id'] == image_id]['file_name'].values[0]\n",
    "    label = categories_df[categories_df['file_name'] == filename]['category'].values[0]\n",
    "    \n",
    "    return label"
   ]
  },
  {
   "cell_type": "code",
   "execution_count": 101,
   "id": "8e4f118a",
   "metadata": {},
   "outputs": [],
   "source": [
    "annotation_files = ['fixed_train.json', 'fixed_val.json', 'fixed_test.json']\n",
    "replacements = {\n",
    "    'plastic': 1,\n",
    "    'carton': 2,\n",
    "    'glass': 3,\n",
    "    'organic': 4,\n",
    "    'rest': 5,\n",
    "    'other': 6,\n",
    "    'dangerous': 7\n",
    "}\n",
    "\n",
    "for file in annotation_files:\n",
    "    with open(file, 'r') as input_file:\n",
    "        data = json.load(input_file)\n",
    "        \n",
    "    temp_annotations_df = pd.DataFrame(data['annotations'])\n",
    "    temp_images_df = pd.DataFrame(data['images'])\n",
    "    \n",
    "    temp_annotations_df['category_id'] = temp_annotations_df['image_id'].apply(get_new_categories, args=(temp_images_df, df))\n",
    "    temp_annotations_df['category_id'] = temp_annotations_df['category_id'].replace(replacements)\n",
    "    \n",
    "    annotations_dict = temp_annotations_df.to_dict(orient='records')\n",
    "    data['annotations'] = annotations_dict\n",
    "    \n",
    "    with open(f'cat_{file}', 'w') as outfile:\n",
    "        json.dump(data, outfile)"
   ]
  }
 ],
 "metadata": {
  "kernelspec": {
   "display_name": "Python [conda env:waste]",
   "language": "python",
   "name": "conda-env-waste-py"
  },
  "language_info": {
   "codemirror_mode": {
    "name": "ipython",
    "version": 3
   },
   "file_extension": ".py",
   "mimetype": "text/x-python",
   "name": "python",
   "nbconvert_exporter": "python",
   "pygments_lexer": "ipython3",
   "version": "3.9.7"
  }
 },
 "nbformat": 4,
 "nbformat_minor": 5
}
